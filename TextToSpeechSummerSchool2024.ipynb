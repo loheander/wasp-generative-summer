{
 "cells": [
  {
   "cell_type": "markdown",
   "metadata": {
    "id": "a8vvRa6RDpM5"
   },
   "source": [
    "The second and third line will setup the phonemizer front end this will help conveting the raw text (graphemes) to phonetically sounding characters (phones)"
   ]
  },
  {
   "cell_type": "code",
   "execution_count": 1,
   "metadata": {
    "id": "d8pIbxb17ZiS"
   },
   "outputs": [
    {
     "name": "stdout",
     "output_type": "stream",
     "text": [
      "E: Could not open lock file /var/lib/dpkg/lock-frontend - open (13: Permission denied)\n",
      "E: Unable to acquire the dpkg frontend lock (/var/lib/dpkg/lock-frontend), are you root?\n",
      "Note: you may need to restart the kernel to use updated packages.\n"
     ]
    }
   ],
   "source": [
    "from IPython.display import Audio, display\n",
    "\n",
    "!apt-get install festival espeak-ng mbrola\n",
    "%pip install -q phonemizer"
   ]
  },
  {
   "cell_type": "markdown",
   "metadata": {
    "id": "gmsAnYP7D_Lv"
   },
   "source": [
    "## Let's test the installed front end\n",
    "\n",
    "The output of the next shell should be:\n",
    "`həloʊ wɜːld wɛlkʌm tə ðə spiːtʃ sɪnθɪsɪs tuːtoːɹɪəl`"
   ]
  },
  {
   "cell_type": "code",
   "execution_count": 2,
   "metadata": {
    "id": "TD6koGnG7hYz"
   },
   "outputs": [
    {
     "name": "stdout",
     "output_type": "stream",
     "text": [
      "fatal error: espeak not installed on your system\n"
     ]
    }
   ],
   "source": [
    "# Update the text here\n",
    "text = \"Hello world. Welcome to the speech synthesis tutorial.\"\n",
    "\n",
    "!echo '{text}' | phonemize"
   ]
  },
  {
   "cell_type": "markdown",
   "metadata": {
    "id": "vdMrpglZEIxF"
   },
   "source": [
    "# Text-to-Speech using pretrained models\n",
    "\n",
    "Let's play with [Matcha-TTS](https://arxiv.org/abs/2309.03199) to generate audio\n",
    "\n",
    "Installing may take some time and you might need to restart the session once it is done installing. But next time it will not take long."
   ]
  },
  {
   "cell_type": "code",
   "execution_count": null,
   "metadata": {
    "id": "PQDAJOyHD7YU"
   },
   "outputs": [],
   "source": [
    "%pip install matcha-tts"
   ]
  },
  {
   "cell_type": "markdown",
   "metadata": {
    "id": "yZGuob68FZre"
   },
   "source": [
    "### It will download checkpoints when you run it the first time\n",
    "\n",
    "Location: `/root/.local/share/matcha_tts/`\n",
    "\n",
    "Current working dir: `/content`"
   ]
  },
  {
   "cell_type": "code",
   "execution_count": null,
   "metadata": {
    "id": "V-Wnms-hF1t7"
   },
   "outputs": [],
   "source": [
    "%cd /content/\n",
    "%pwd"
   ]
  },
  {
   "cell_type": "code",
   "execution_count": null,
   "metadata": {
    "id": "suSD28zEEVfO"
   },
   "outputs": [],
   "source": [
    "# It will download checkpoints when you run it the first time\n",
    "!matcha-tts --text \"Hello world. Welcome to the speech synthesis tutorial.\""
   ]
  },
  {
   "cell_type": "code",
   "execution_count": null,
   "metadata": {
    "id": "KchsgImNEwe6"
   },
   "outputs": [],
   "source": [
    "display(Audio('utterance_001.wav'))"
   ]
  },
  {
   "cell_type": "markdown",
   "metadata": {
    "id": "D2yoJPpDGiDB"
   },
   "source": [
    "## Multispeaker synthesis"
   ]
  },
  {
   "cell_type": "code",
   "execution_count": null,
   "metadata": {
    "id": "mVJGCQVeGdQU"
   },
   "outputs": [],
   "source": [
    "!matcha-tts --text \"Hello world. Welcome to the speech synthesis tutorial.\" --model matcha_vctk --spk 0\n",
    "display(Audio('utterance_001_speaker_000.wav'))"
   ]
  },
  {
   "cell_type": "code",
   "execution_count": null,
   "metadata": {
    "id": "eDj7loNCG3le"
   },
   "outputs": [],
   "source": [
    "!matcha-tts --text \"Hello world. Welcome to the speech synthesis tutorial.\" --model matcha_vctk --spk 16\n",
    "display(Audio('utterance_001_speaker_016.wav'))"
   ]
  },
  {
   "cell_type": "markdown",
   "metadata": {
    "id": "xLB167czHntd"
   },
   "source": [
    "# Fine-tuning to your own voice"
   ]
  },
  {
   "cell_type": "markdown",
   "metadata": {
    "id": "j_MOe1J3JfeL"
   },
   "source": [
    "## Clone Matcha-TTS for and install it in editable mode\n",
    "\n",
    "`pip install -e <package>` enables editable mode. It is useful when trying to install a package locally, most often in the case when you are developing it on your system. It will just link the package to the original location, basically meaning any changes to the original package would reflect directly in your environment.\n",
    "\n",
    "We clone it using git! Enter the directory and editable install it now any changes we make will be reflected back.\n",
    "\n",
    "After restart directly jump till here."
   ]
  },
  {
   "cell_type": "code",
   "execution_count": null,
   "metadata": {
    "id": "0_ouFwGGJeX9"
   },
   "outputs": [],
   "source": [
    "!git clone https://github.com/shivammehta25/Matcha-TTS.git\n",
    "%cd Matcha-TTS\n",
    "!pip install -e ."
   ]
  },
  {
   "cell_type": "markdown",
   "metadata": {
    "id": "fHQlN3SFN9ku"
   },
   "source": [
    "## Preprocess dataset to make it ready to train"
   ]
  },
  {
   "cell_type": "markdown",
   "metadata": {
    "id": "ZDKv-hXpLgfd"
   },
   "source": [
    "Create a directory data and other subdirectories to save wavs to `MyDataset/wavs/`"
   ]
  },
  {
   "cell_type": "code",
   "execution_count": null,
   "metadata": {
    "id": "ZxvGN2I-Kgza"
   },
   "outputs": [],
   "source": [
    "!rm data\n",
    "!mkdir data\n",
    "!mkdir data/MyDataset\n",
    "!mkdir data/MyDataset/wavs"
   ]
  },
  {
   "cell_type": "markdown",
   "metadata": {
    "id": "va8vivQzH0Gp"
   },
   "source": [
    "Using audio recording software record individual files in the format:\n",
    "\n",
    "The each row of file list:\n",
    "`location|speaker id|text`\n",
    "\n",
    "```\n",
    "data/MyDataset/wavs/1.wav|0|The skipper's and Nakata's gymnastics served as a translation without words.\n",
    "data/MyDataset/wavs/2.wav|0|Knowing him, I review the old Scandinavian myths with clearer understanding.\n",
    "data/MyDataset/wavs/3.wav|0|He told himself that as he washed himself and groomed his disheveled clothes.\n",
    "data/MyDataset/wavs/4.wav|0|The river bared its bosom, and snorting steamboats challenged the wilderness.\n",
    "data/MyDataset/wavs/5.wav|0|Once the jews harp began emitting its barbaric rhythms, Michael was helpless.\n",
    "data/MyDataset/wavs/6.wav|0|He had observed the business life of Hawaii and developed a vaulting ambition.\n",
    "data/MyDataset/wavs/7.wav|0|The Fire-Men wore animal skins around their waists and across their shoulders.\n",
    "data/MyDataset/wavs/8.wav|0|The temperature dropped to fifty below zero and remained there the whole trip.\n",
    "data/MyDataset/wavs/9.wav|0|The sunsets grow more bizarre and spectacular off this coast of the Argentine.\n",
    "data/MyDataset/wavs/10.wav|0|He also contended that better confidence was established by carrying no weapons.\n",
    "data/MyDataset/wavs/11.wav|0|A wildly exciting time was his during the week preceding Thursday the eighteenth.\n",
    "data/MyDataset/wavs/12.wav|0|In short, my joyous individualism was dominated by the orthodox bourgeois ethics.\n",
    "data/MyDataset/wavs/13.wav|0|The Japanese understood as we could never school ourselves or hope to understand.\n",
    "data/MyDataset/wavs/14.wav|0|The hunters were still arguing and roaring like some semi-human amphibious breed.\n",
    "data/MyDataset/wavs/15.wav|0|Of course much grumbling went on, and little outbursts were continually occurring.\n",
    "data/MyDataset/wavs/16.wav|0|Down through the perfume-weighted air fluttered the snowy fluffs of the cottonwoods.\n",
    "data/MyDataset/wavs/17.wav|0|The butchers and meat-cutters refused to handle meat destined for unfair restaurants.\n",
    "data/MyDataset/wavs/18.wav|0|Mercedes screamed cried, laughed, and manifested the chaotic abandonment of hysteria.\n",
    "data/MyDataset/wavs/19.wav|0|I also understand that similar branch organizations have made their appearance in Europe.\n",
    "data/MyDataset/wavs/20.wav|0|A combination of Canadian capital quickly organized and petitioned for the same privileges.\n",
    "```\n",
    "\n",
    "\n",
    "We will override speaker to our own audio.\n",
    "\n",
    "Record audio and move all files to `data/MyDataset/wavs`. We will ensure all wavs have the sample rate of 22050 otherwise we will resample it"
   ]
  },
  {
   "cell_type": "markdown",
   "metadata": {
    "id": "1pYk_CaWwDpf"
   },
   "source": [
    "The quality of the final output will depend highly on the training data. Therefore you should make sure to make your recordings as clear as possible. Here are two guides that can be useful: [here](https://speech.zone/exercises/build-a-unit-selection-voice/make-the-recordings/) and [here](https://speech.zone/exercises/build-a-unit-selection-voice/make-the-recordings/create-a-studio-at-home/).\n",
    "\n",
    "If you have problem with finding a good program for recording you could use a browser based recorder like [this one](https://online-voice-recorder.com/).\n",
    "\n"
   ]
  },
  {
   "cell_type": "markdown",
   "metadata": {
    "id": "pjPjFX5QHDSa"
   },
   "source": [
    "Make sure that the files are named `1.wav` ... `20.wav`"
   ]
  },
  {
   "cell_type": "code",
   "execution_count": null,
   "metadata": {
    "id": "13r99A1_O50T"
   },
   "outputs": [],
   "source": [
    "from google.colab import files\n",
    "import shutil\n",
    "import os\n",
    "\n",
    "# Upload multiple files\n",
    "uploaded = files.upload()\n",
    "\n",
    "# Define the target directory\n",
    "target_directory = 'data/MyDataset/wavs'\n",
    "\n",
    "# Move the uploaded files to the target directory\n",
    "for filename, file_content in uploaded.items():\n",
    "    target_path = os.path.join(target_directory, filename)\n",
    "    with open(target_path, 'wb') as f:\n",
    "        f.write(file_content)\n",
    "    print(f'{filename} moved to {target_path}')\n",
    "\n",
    "# Removing the files from the base folder\n",
    "!rm [0-9]*.wav"
   ]
  },
  {
   "cell_type": "code",
   "execution_count": null,
   "metadata": {
    "id": "FpX8yBmkSrvB"
   },
   "outputs": [],
   "source": [
    "!ls data/MyDataset/wavs"
   ]
  },
  {
   "cell_type": "markdown",
   "metadata": {
    "id": "w8yakxYlMwi5"
   },
   "source": [
    "Above you should see your `.wav` files"
   ]
  },
  {
   "cell_type": "code",
   "execution_count": null,
   "metadata": {
    "id": "mh60PbP1HrBi"
   },
   "outputs": [],
   "source": [
    "%%capture\n",
    "%cd data/MyDataset/wavs\n",
    "# Fix the sample rate to match that of the pretrained vocoder\n",
    "!for file in *.wav; do ffmpeg -i \"$file\" -ar 22050 -ac 1 \"temp_${file}\" && mv \"temp_${file}\" \"$file\"; done\n",
    "%cd ../../../"
   ]
  },
  {
   "cell_type": "markdown",
   "metadata": {
    "id": "ROc9R1gVPIBG"
   },
   "source": [
    "Save the filelist as train.txt and val.txt both. (it is okay as we are not evaluating the model) Usually you would want to have two separate sets"
   ]
  },
  {
   "cell_type": "code",
   "execution_count": null,
   "metadata": {
    "id": "uxXk5TaJOzHw"
   },
   "outputs": [],
   "source": [
    "%%writefile data/MyDataset/train.txt\n",
    "data/MyDataset/wavs/1.wav|0|The skipper's and Nakata's gymnastics served as a translation without words.\n",
    "data/MyDataset/wavs/2.wav|0|Knowing him, I review the old Scandinavian myths with clearer understanding.\n",
    "data/MyDataset/wavs/3.wav|0|He told himself that as he washed himself and groomed his disheveled clothes.\n",
    "data/MyDataset/wavs/4.wav|0|The river bared its bosom, and snorting steamboats challenged the wilderness.\n",
    "data/MyDataset/wavs/5.wav|0|Once the jews harp began emitting its barbaric rhythms, Michael was helpless.\n",
    "data/MyDataset/wavs/6.wav|0|He had observed the business life of Hawaii and developed a vaulting ambition.\n",
    "data/MyDataset/wavs/7.wav|0|The Fire-Men wore animal skins around their waists and across their shoulders.\n",
    "data/MyDataset/wavs/8.wav|0|The temperature dropped to fifty below zero and remained there the whole trip.\n",
    "data/MyDataset/wavs/9.wav|0|The sunsets grow more bizarre and spectacular off this coast of the Argentine.\n",
    "data/MyDataset/wavs/10.wav|0|He also contended that better confidence was established by carrying no weapons.\n",
    "data/MyDataset/wavs/11.wav|0|A wildly exciting time was his during the week preceding Thursday the eighteenth.\n",
    "data/MyDataset/wavs/12.wav|0|In short, my joyous individualism was dominated by the orthodox bourgeois ethics.\n",
    "data/MyDataset/wavs/13.wav|0|The Japanese understood as we could never school ourselves or hope to understand.\n",
    "data/MyDataset/wavs/14.wav|0|The hunters were still arguing and roaring like some semi-human amphibious breed.\n",
    "data/MyDataset/wavs/15.wav|0|Of course much grumbling went on, and little outbursts were continually occurring.\n",
    "data/MyDataset/wavs/16.wav|0|Down through the perfume-weighted air fluttered the snowy fluffs of the cottonwoods.\n",
    "data/MyDataset/wavs/17.wav|0|The butchers and meat-cutters refused to handle meat destined for unfair restaurants.\n",
    "data/MyDataset/wavs/18.wav|0|Mercedes screamed cried, laughed, and manifested the chaotic abandonment of hysteria.\n",
    "data/MyDataset/wavs/19.wav|0|I also understand that similar branch organizations have made their appearance in Europe.\n",
    "data/MyDataset/wavs/20.wav|0|A combination of Canadian capital quickly organized and petitioned for the same privileges."
   ]
  },
  {
   "cell_type": "code",
   "execution_count": null,
   "metadata": {
    "id": "wqShRV7CPjCH"
   },
   "outputs": [],
   "source": [
    "%%writefile data/MyDataset/val.txt\n",
    "data/MyDataset/wavs/1.wav|0|The skipper's and Nakata's gymnastics served as a translation without words.\n",
    "data/MyDataset/wavs/2.wav|0|Knowing him, I review the old Scandinavian myths with clearer understanding.\n",
    "data/MyDataset/wavs/3.wav|0|He told himself that as he washed himself and groomed his disheveled clothes.\n",
    "data/MyDataset/wavs/4.wav|0|The river bared its bosom, and snorting steamboats challenged the wilderness.\n",
    "data/MyDataset/wavs/5.wav|0|Once the jews harp began emitting its barbaric rhythms, Michael was helpless.\n",
    "data/MyDataset/wavs/6.wav|0|He had observed the business life of Hawaii and developed a vaulting ambition.\n",
    "data/MyDataset/wavs/7.wav|0|The Fire-Men wore animal skins around their waists and across their shoulders.\n",
    "data/MyDataset/wavs/8.wav|0|The temperature dropped to fifty below zero and remained there the whole trip.\n",
    "data/MyDataset/wavs/9.wav|0|The sunsets grow more bizarre and spectacular off this coast of the Argentine.\n",
    "data/MyDataset/wavs/10.wav|0|He also contended that better confidence was established by carrying no weapons.\n",
    "data/MyDataset/wavs/11.wav|0|A wildly exciting time was his during the week preceding Thursday the eighteenth.\n",
    "data/MyDataset/wavs/12.wav|0|In short, my joyous individualism was dominated by the orthodox bourgeois ethics.\n",
    "data/MyDataset/wavs/13.wav|0|The Japanese understood as we could never school ourselves or hope to understand.\n",
    "data/MyDataset/wavs/14.wav|0|The hunters were still arguing and roaring like some semi-human amphibious breed.\n",
    "data/MyDataset/wavs/15.wav|0|Of course much grumbling went on, and little outbursts were continually occurring.\n",
    "data/MyDataset/wavs/16.wav|0|Down through the perfume-weighted air fluttered the snowy fluffs of the cottonwoods.\n",
    "data/MyDataset/wavs/17.wav|0|The butchers and meat-cutters refused to handle meat destined for unfair restaurants.\n",
    "data/MyDataset/wavs/18.wav|0|Mercedes screamed cried, laughed, and manifested the chaotic abandonment of hysteria.\n",
    "data/MyDataset/wavs/19.wav|0|I also understand that similar branch organizations have made their appearance in Europe.\n",
    "data/MyDataset/wavs/20.wav|0|A combination of Canadian capital quickly organized and petitioned for the same privileges."
   ]
  },
  {
   "cell_type": "markdown",
   "metadata": {
    "id": "xXUJAr86YiVb"
   },
   "source": [
    "## Create configuration files"
   ]
  },
  {
   "cell_type": "code",
   "execution_count": null,
   "metadata": {
    "id": "8WC0MbDWPrSk"
   },
   "outputs": [],
   "source": [
    "%%writefile configs/data/my_dataset.yaml\n",
    "defaults:\n",
    "  - vctk.yaml\n",
    "  - _self_\n",
    "\n",
    "name: MyDataset\n",
    "train_filelist_path: data/MyDataset/train.txt\n",
    "valid_filelist_path: data/MyDataset/val.txt"
   ]
  },
  {
   "cell_type": "code",
   "execution_count": null,
   "metadata": {
    "id": "GoZquP5oYzXP"
   },
   "outputs": [],
   "source": [
    "%%writefile configs/experiment/my_audio.yaml\n",
    "# @package _global_\n",
    "\n",
    "# to execute this experiment run:\n",
    "# python train.py experiment=my_audio\n",
    "\n",
    "defaults:\n",
    "  - override /data: my_dataset.yaml\n",
    "\n",
    "# all parameters below will be merged with parameters from default configurations set above\n",
    "# this allows you to overwrite only specified parameters\n",
    "\n",
    "tags: [\"finetuning\"]\n",
    "\n",
    "run_name: MyDataset\n",
    "\n",
    "\n",
    "data:\n",
    "  batch_size: 5\n",
    "\n",
    "trainer:\n",
    "  check_val_every_n_epoch: 10\n",
    "  limit_val_batches: 2\n",
    "  max_epochs: 2063\n",
    "  # Basemodel we finetune on is trained for 1863 so we train for additional 200 epochs\n",
    "  # It will be very fast since our dataset has only 20 sentences"
   ]
  },
  {
   "cell_type": "code",
   "execution_count": null,
   "metadata": {
    "id": "aE1lMj-4amWw"
   },
   "outputs": [],
   "source": [
    "# Download base model\n",
    "!wget https://github.com/shivammehta25/Matcha-TTS-checkpoints/releases/download/v1.0/matcha_vctk.ckpt"
   ]
  },
  {
   "cell_type": "markdown",
   "metadata": {
    "id": "01qy8f53aNjH"
   },
   "source": [
    "### Lets train it for further 200 epochs\n",
    "\n",
    "It should take 15-30 minutes.\n",
    "\n",
    "Be aware that if you are doing this on google colab you might run out of compute!\n"
   ]
  },
  {
   "cell_type": "code",
   "execution_count": null,
   "metadata": {
    "id": "pKTqFe5WY_x4"
   },
   "outputs": [],
   "source": [
    "!python matcha/train.py ckpt_path=matcha_vctk.ckpt experiment=my_audio"
   ]
  },
  {
   "cell_type": "markdown",
   "metadata": {
    "id": "Qc70xMhkb2mg"
   },
   "source": [
    "Then in \"logs/train/MyDataset/runs\" you will find run time date folder and under checkpoints find a ckpt path and pass it to the matcha-tts"
   ]
  },
  {
   "cell_type": "code",
   "execution_count": null,
   "metadata": {
    "id": "qN8SOgYuZrXA"
   },
   "outputs": [],
   "source": [
    "date = !ls logs/train/MyDataset/runs\n",
    "checkpoint_path = f\"logs/train/MyDataset/runs/{date[0]}/checkpoints/last.ckpt\" # If you have multiple models you might want to change the index in the list of dates\n",
    "print(checkpoint_path)\n",
    "!matcha-tts --checkpoint_path={checkpoint_path} --spk 0 --vocoder hifigan_univ_v1 --text \"Test audio! This should sound like you now.\""
   ]
  },
  {
   "cell_type": "code",
   "execution_count": null,
   "metadata": {
    "id": "I2MUX8s-cW6u"
   },
   "outputs": [],
   "source": [
    "!ls\n",
    "display(Audio('utterance_001_speaker_000.wav')) # If this causes an error make sure that the file that you are trying to play exists in the current folder"
   ]
  },
  {
   "cell_type": "markdown",
   "metadata": {
    "id": "qrrwFc_em23o"
   },
   "source": [
    "#Synthesising\n",
    "If everything is working now and the test voice sounds similar to yours. You shall now generate 5-10 of the first test sentences from the [test sentences](https://www.cs.columbia.edu/~hgs/audio/harvard.html)."
   ]
  },
  {
   "cell_type": "code",
   "execution_count": null,
   "metadata": {
    "id": "sF2pRTXgm2DN"
   },
   "outputs": [],
   "source": [
    "%%writefile test_sentences.txt\n",
    "The birch canoe slid on the smooth planks.\n",
    "Glue the sheet to the dark blue background.\n",
    "It's easy to tell the depth of a well.\n",
    "These days a chicken leg is a rare dish.\n",
    "Rice is often served in round bowls.\n",
    "The juice of lemons makes fine punch.\n",
    "The box was thrown beside the parked truck.\n",
    "The hogs were fed chopped corn and garbage.\n",
    "Four hours of steady work faced us.\n",
    "A large size in stockings is hard to sell.\n"
   ]
  },
  {
   "cell_type": "code",
   "execution_count": null,
   "metadata": {
    "id": "WGY-rS0qnynM"
   },
   "outputs": [],
   "source": [
    "!matcha-tts --checkpoint_path={checkpoint_path} --spk 0 --vocoder hifigan_univ_v1 --file test_sentences.txt --batched --batch_size 10"
   ]
  },
  {
   "cell_type": "code",
   "execution_count": null,
   "metadata": {
    "id": "RIQzMxfrB1pd"
   },
   "outputs": [],
   "source": [
    "!ls\n",
    "display(Audio('utterance_000_speaker_000.wav'))\n",
    "display(Audio('utterance_001_speaker_000.wav'))\n",
    "display(Audio('utterance_002_speaker_000.wav'))\n",
    "display(Audio('utterance_003_speaker_000.wav'))\n",
    "display(Audio('utterance_004_speaker_000.wav'))\n",
    "display(Audio('utterance_005_speaker_000.wav'))\n",
    "display(Audio('utterance_006_speaker_000.wav'))\n",
    "display(Audio('utterance_007_speaker_000.wav'))\n",
    "display(Audio('utterance_008_speaker_000.wav'))\n",
    "display(Audio('utterance_009_speaker_000.wav'))"
   ]
  },
  {
   "cell_type": "markdown",
   "metadata": {
    "id": "A5bqCain23TZ"
   },
   "source": [
    "## Downloading the audio files\n",
    "\n",
    "If you are happy with the sound you should now download the audio files so that you can hand them in in the assignment. This can either be done by using the files explorer in google colab or by running the next codeblock. Make sure that the zip file that you download is not empty!"
   ]
  },
  {
   "cell_type": "code",
   "execution_count": null,
   "metadata": {
    "id": "hGNwjvNl2218"
   },
   "outputs": [],
   "source": [
    "from google.colab import files\n",
    "!zip test_audio_files.zip utterance_*_speaker_000.wav\n",
    "files.download('test_audio_files.zip')\n"
   ]
  },
  {
   "cell_type": "markdown",
   "metadata": {
    "id": "rDwcKiGa2Fph"
   },
   "source": [
    "## Downloading the model\n",
    "\n",
    "The following code block will download a checkpoint file that contiains the model. Since the file is so big we recomend upploading the file to a google drive. Therefore you should make sure to have around 500Mb available."
   ]
  },
  {
   "cell_type": "code",
   "execution_count": null,
   "metadata": {
    "id": "dIKKOhMx1l0O"
   },
   "outputs": [],
   "source": [
    "from google.colab import drive\n",
    "!pwd\n",
    "mount_path = \"/content/Matcha-TTS/drive\"\n",
    "drive.mount(mount_path)\n",
    "drive_file_path = mount_path + \"/My\\ Drive/myModel.ckpt\"\n",
    "\n",
    "!cp {checkpoint_path} {drive_file_path}"
   ]
  },
  {
   "cell_type": "markdown",
   "metadata": {
    "id": "XJyPsw1LEjhm"
   },
   "source": [
    "Now you should check your drive and make sure that a file named myModel.ckpt exists."
   ]
  }
 ],
 "metadata": {
  "accelerator": "GPU",
  "colab": {
   "gpuType": "T4",
   "provenance": []
  },
  "kernelspec": {
   "display_name": "Python 3 (ipykernel)",
   "language": "python",
   "name": "python3"
  },
  "language_info": {
   "codemirror_mode": {
    "name": "ipython",
    "version": 3
   },
   "file_extension": ".py",
   "mimetype": "text/x-python",
   "name": "python",
   "nbconvert_exporter": "python",
   "pygments_lexer": "ipython3",
   "version": "3.11.7"
  }
 },
 "nbformat": 4,
 "nbformat_minor": 4
}
